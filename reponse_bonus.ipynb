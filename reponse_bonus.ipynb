{
 "cells": [
  {
   "cell_type": "markdown",
   "id": "e98f2a52",
   "metadata": {},
   "source": [
    "# TP – Signatures numériques et Autorité de Certication simulée"
   ]
  },
  {
   "cell_type": "markdown",
   "id": "57e763a0",
   "metadata": {},
   "source": [
    "## 🎯 Objectif général\n",
    "Mettre en œuvre une application de système simple de signatures électroniques en Python avec interface\n",
    "en utilisant Django.\n",
    "Vous allez:\n",
    "* Générer des paires de clés RSA\n",
    "* Simuler une « Autorité » qui enregistre les clés publiques\n",
    "* Signer des chiers\n",
    "* Vérier les signatures\n",
    "* Comprendre l'intérêt d'une infrastructure de conance\n"
   ]
  },
  {
   "cell_type": "markdown",
   "id": "137653f4",
   "metadata": {},
   "source": [
    "## 📌 Contexte\n",
    "Dans ce TP, vous jouerez deux rôles :\n",
    "\n",
    "✅ Utilisateur : génère ses clés et signe des documents.\n",
    "\n",
    "✅ Autorité (CA simpliée) : stocke les clés publiques des utilisateurs, distribue ces clés et vérie les signatures."
   ]
  },
  {
   "cell_type": "markdown",
   "id": "e43215a2",
   "metadata": {},
   "source": [
    "## ✅ Étape 1 – Génération des clés RSA "
   ]
  },
  {
   "cell_type": "markdown",
   "id": "cab3cbfe",
   "metadata": {},
   "source": [
    "✅ Question bonus : Pourquoi la clé privée doit-elle rester secrète?"
   ]
  },
  {
   "cell_type": "markdown",
   "id": "d4210542",
   "metadata": {},
   "source": [
    " => \n",
    " La clé privée doit rester secrète car elle permet de signer des documents ou de déchiffrer des messages chiffrés.\n",
    " Si quelqu'un d'autre obtient la clé privée, il peut se faire passer pour le propriétaire légitime,\n",
    " falsifier des signatures ou accéder à des informations confidentielles.\n",
    " La sécurité de tout le système repose donc sur la confidentialité de la clé privée."
   ]
  },
  {
   "cell_type": "markdown",
   "id": "82d05107",
   "metadata": {},
   "source": [
    "## ✅ Étape 2 – Simuler l'Autorité de Certication"
   ]
  },
  {
   "cell_type": "markdown",
   "id": "c344623f",
   "metadata": {},
   "source": [
    "✅ Question bonus :\n",
    "Quelles seraient les bonnes pratiques pour ce registre dans un système réel?"
   ]
  },
  {
   "cell_type": "markdown",
   "id": "de66907a",
   "metadata": {},
   "source": [
    " => Dans un système réel, les bonnes pratiques pour le registre des clés publiques incluent :\n",
    " - Stocker le registre dans un emplacement sécurisé, avec des accès restreints et contrôlés.\n",
    " - Utiliser des mécanismes d'authentification forte pour accéder et modifier le registre.\n",
    " - Assurer l'intégrité du registre (par exemple, via des signatures numériques ou des journaux d'audit).\n",
    " - Sauvegarder régulièrement le registre pour éviter toute perte de données.\n",
    " - Mettre en place des procédures de révocation et de mise à jour des clés.\n",
    " - Protéger la confidentialité des informations sensibles associées aux utilisateurs."
   ]
  },
  {
   "cell_type": "markdown",
   "id": "c0e84afd",
   "metadata": {},
   "source": [
    "## ✅ Étape 3 – Signature d’un chier"
   ]
  },
  {
   "cell_type": "markdown",
   "id": "f8f513fb",
   "metadata": {},
   "source": [
    "✅ Question bonus :\n",
    "Pourquoi signer le hash et pas tout le fichier directement?"
   ]
  },
  {
   "cell_type": "markdown",
   "id": "b1abdc7b",
   "metadata": {},
   "source": [
    "=> Signer le hash plutôt que tout le fichier directement permet de gagner en efficacité et en sécurité. Calculer une signature numérique sur un fichier volumineux serait très lent, alors que le hash est de taille fixe et rapide à traiter. De plus, le hashage permet de détecter toute modification, même minime, du fichier original. Cela garantit l'intégrité du document tout en optimisant les performances du processus de signature."
   ]
  }
 ],
 "metadata": {
  "language_info": {
   "name": "python"
  }
 },
 "nbformat": 4,
 "nbformat_minor": 5
}
