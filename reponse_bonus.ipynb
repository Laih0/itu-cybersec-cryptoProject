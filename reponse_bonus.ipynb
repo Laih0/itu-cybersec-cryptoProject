{
 "cells": [
  {
   "cell_type": "markdown",
   "id": "e98f2a52",
   "metadata": {},
   "source": [
    "# TP – Signatures numériques et Autorité de Certication simulée"
   ]
  },
  {
   "cell_type": "markdown",
   "id": "57e763a0",
   "metadata": {},
   "source": [
    "## 🎯 Objectif général\n",
    "Mettre en œuvre une application de système simple de signatures électroniques en Python avec interface\n",
    "en utilisant Django.\n",
    "Vous allez:\n",
    "* Générer des paires de clés RSA\n",
    "* Simuler une « Autorité » qui enregistre les clés publiques\n",
    "* Signer des chiers\n",
    "* Vérier les signatures\n",
    "* Comprendre l'intérêt d'une infrastructure de conance\n"
   ]
  },
  {
   "cell_type": "markdown",
   "id": "137653f4",
   "metadata": {},
   "source": [
    "## 📌 Contexte\n",
    "Dans ce TP, vous jouerez deux rôles :\n",
    "\n",
    "✅ Utilisateur : génère ses clés et signe des documents.\n",
    "\n",
    "✅ Autorité (CA simpliée) : stocke les clés publiques des utilisateurs, distribue ces clés et vérie les signatures."
   ]
  },
  {
   "cell_type": "markdown",
   "id": "e43215a2",
   "metadata": {},
   "source": [
    "## ✅ Étape 1 – Génération des clés RSA "
   ]
  },
  {
   "cell_type": "markdown",
   "id": "cab3cbfe",
   "metadata": {},
   "source": [
    "✅ Question bonus : Pourquoi la clé privée doit-elle rester secrète?"
   ]
  },
  {
   "cell_type": "markdown",
   "id": "d4210542",
   "metadata": {},
   "source": [
    " => \n",
    " La clé privée doit rester secrète car elle permet de signer des documents ou de déchiffrer des messages chiffrés.\n",
    " Si quelqu'un d'autre obtient la clé privée, il peut se faire passer pour le propriétaire légitime,\n",
    " falsifier des signatures ou accéder à des informations confidentielles.\n",
    " La sécurité de tout le système repose donc sur la confidentialité de la clé privée."
   ]
  },
  {
   "cell_type": "markdown",
   "id": "82d05107",
   "metadata": {},
   "source": [
    "## ✅ Étape 2 – Simuler l'Autorité de Certication"
   ]
  },
  {
   "cell_type": "markdown",
   "id": "c344623f",
   "metadata": {},
   "source": [
    "✅ Question bonus :\n",
    "Quelles seraient les bonnes pratiques pour ce registre dans un système réel?"
   ]
  },
  {
   "cell_type": "markdown",
   "id": "de66907a",
   "metadata": {},
   "source": [
    " => Dans un système réel, les bonnes pratiques pour le registre des clés publiques incluent :\n",
    " - Stocker le registre dans un emplacement sécurisé, avec des accès restreints et contrôlés.\n",
    " - Utiliser des mécanismes d'authentification forte pour accéder et modifier le registre.\n",
    " - Assurer l'intégrité du registre (par exemple, via des signatures numériques ou des journaux d'audit).\n",
    " - Sauvegarder régulièrement le registre pour éviter toute perte de données.\n",
    " - Mettre en place des procédures de révocation et de mise à jour des clés.\n",
    " - Protéger la confidentialité des informations sensibles associées aux utilisateurs."
   ]
  },
  {
   "cell_type": "markdown",
   "id": "c0e84afd",
   "metadata": {},
   "source": [
    "## ✅ Étape 3 – Signature d’un chier"
   ]
  },
  {
   "cell_type": "markdown",
   "id": "f8f513fb",
   "metadata": {},
   "source": [
    "✅ Question bonus :\n",
    "Pourquoi signer le hash et pas tout le fichier directement?"
   ]
  },
  {
   "cell_type": "markdown",
   "id": "b1abdc7b",
   "metadata": {},
   "source": [
    "=> Signer le hash plutôt que tout le fichier directement permet de gagner en efficacité et en sécurité. Calculer une signature numérique sur un fichier volumineux serait très lent, alors que le hash est de taille fixe et rapide à traiter. De plus, le hashage permet de détecter toute modification, même minime, du fichier original. Cela garantit l'intégrité du document tout en optimisant les performances du processus de signature."
   ]
  },
  {
   "cell_type": "markdown",
   "id": "efa4cbb3",
   "metadata": {},
   "source": [
    "## ✅ Étape 4 – Vérication de la signature"
   ]
  },
  {
   "cell_type": "markdown",
   "id": "f5efe4ed",
   "metadata": {},
   "source": [
    "✅ Question bonus :\n",
    "Quelles informations doit-on vérier en plus du hash? (timestamp, user...)\n"
   ]
  },
  {
   "cell_type": "markdown",
   "id": "3b51ffd9",
   "metadata": {},
   "source": [
    "=> En plus de vérifier le hash, il est important de contrôler :\n",
    "- **Le timestamp** : pour s'assurer que la signature n'est pas trop ancienne ou future (détection de rejeu d'attaques)\n",
    "- **L'utilisateur (user)** : pour vérifier que la signature provient bien de la personne attendue\n",
    "- **La validité de la clé publique** : s'assurer que la clé n'a pas été révoquée ou expirée\n",
    "- **L'intégrité du fichier de signature** : vérifier que le fichier .sig n'a pas été altéré\n",
    "- **Le contexte d'utilisation** : vérifier que la signature est utilisée dans le bon contexte (bon document, bonne transaction)\n",
    "- **La chaîne de confiance** : s'assurer que la clé publique provient bien d'une autorité de certification reconnue"
   ]
  },
  {
   "cell_type": "markdown",
   "id": "671a0278",
   "metadata": {},
   "source": [
    "## ✅ Étape 5 – Simulation d'attaque MITM\n",
    "\n",
    "**🎯 Objectif :** Comprendre la menace du remplacement de clé publique.\n",
    "\n",
    "**📌 Consignes :**\n",
    "- Montrez qu'un attaquant peut remplacer la clé publique de `user1` dans le registre.\n",
    "- Signez un fichier en se faisant passer pour `user1`.\n",
    "- Vérifiez la signature (qui sera « valide » si le registre est corrompu).\n",
    "\n",
    "**💡 Discussion attendue :**\n",
    "Que faudrait-il ajouter pour éviter cette attaque ? \n",
    "Réponse attendue : « certificats numériques signés par une autorité de confiance »"
   ]
  },
  {
   "cell_type": "markdown",
   "id": "8ea3b629",
   "metadata": {},
   "source": [
    "## 🎁 BONUS – Génération d'un certificat rudimentaire\n",
    "\n",
    "**🎯 Objectif :** Simuler un « certificat » signé par l'autorité.\n",
    "\n",
    "**📌 Consignes :**\n",
    "\n",
    "Structure du certificat :\n",
    "```json\n",
    "{\n",
    "  \"username\": \"user1\",\n",
    "  \"public_key\": \"...\",\n",
    "  \"CA_signature\": \"...\"\n",
    "}\n",
    "```\n",
    "\n",
    "- **Signature CA sur :** `hash(username + public_key)`\n",
    "- **Vérification :** L'autorité vérifie sa propre signature sur le certificat avant d'ajouter la clé au registre.\n",
    "\n",
    "**💡 Question bonus :**\n",
    "Quelle différence avec le registre naïf ?"
   ]
  },
  {
   "cell_type": "markdown",
   "id": "76e04507",
   "metadata": {},
   "source": [
    " La principale différence avec le registre naïf est que, dans le cas du certificat,\n",
    " la clé publique de l'utilisateur est accompagnée d'une signature de l'autorité (CA).\n",
    " Cela permet à toute personne de vérifier que la clé publique a bien été validée par l'autorité,\n",
    " et n'a pas été modifiée ou remplacée par un attaquant.\n",
    " Dans le registre naïf, il suffit de remplacer la clé publique dans le registre pour tromper le système,\n",
    " alors qu'avec un certificat signé, toute modification de la clé ou du nom d'utilisateur invalidera la signature du CA.\n",
    " Le certificat apporte donc une garantie d'intégrité et d'authenticité grâce à la signature numérique de l'autorité."
   ]
  }
 ],
 "metadata": {
  "language_info": {
   "name": "python"
  }
 },
 "nbformat": 4,
 "nbformat_minor": 5
}
